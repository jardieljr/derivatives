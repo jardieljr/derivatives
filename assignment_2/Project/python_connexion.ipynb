import xlwings as ws
import pandas as pd

#Open a new excel

