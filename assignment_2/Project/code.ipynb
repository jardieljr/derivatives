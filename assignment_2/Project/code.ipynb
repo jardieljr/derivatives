S0 = 100. #Stock Price
r = 0.01 #risk free rate
sigma = 0.2 #Stock Constant Volatility
T = 1 #Time for expiry
I = 10 #Number of simulations
M = 100 #Time Steps for simulations
dt = T/M #discrete time interval
